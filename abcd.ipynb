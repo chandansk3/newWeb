{
 "cells": [
  {
   "cell_type": "code",
   "execution_count": 3,
   "id": "9c6029bf",
   "metadata": {},
   "outputs": [],
   "source": [
    "mylist=[\"a\",\"b\",\"c\",\"d\"];"
   ]
  },
  {
   "cell_type": "code",
   "execution_count": 6,
   "id": "ab76e3a5",
   "metadata": {},
   "outputs": [
    {
     "name": "stdout",
     "output_type": "stream",
     "text": [
      "['a', 'b', 'c', 'd']\n"
     ]
    }
   ],
   "source": [
    "print(mylist);"
   ]
  },
  {
   "cell_type": "code",
   "execution_count": 8,
   "id": "5b9ad3fb",
   "metadata": {},
   "outputs": [],
   "source": [
    "mylist.append(\"e\");"
   ]
  },
  {
   "cell_type": "code",
   "execution_count": 9,
   "id": "81905624",
   "metadata": {},
   "outputs": [
    {
     "name": "stdout",
     "output_type": "stream",
     "text": [
      "['a', 'b', 'c', 'd', 'e']\n"
     ]
    }
   ],
   "source": [
    "print(mylist);\n"
   ]
  },
  {
   "cell_type": "code",
   "execution_count": 10,
   "id": "537c9ebf",
   "metadata": {},
   "outputs": [],
   "source": [
    "A=mylist.copy();"
   ]
  },
  {
   "cell_type": "code",
   "execution_count": 11,
   "id": "41084f8b",
   "metadata": {},
   "outputs": [
    {
     "name": "stdout",
     "output_type": "stream",
     "text": [
      "['a', 'b', 'c', 'd', 'e']\n"
     ]
    }
   ],
   "source": [
    "print(A);\n"
   ]
  },
  {
   "cell_type": "code",
   "execution_count": 12,
   "id": "309fec74",
   "metadata": {},
   "outputs": [],
   "source": [
    "mylist.remove(\"e\");"
   ]
  },
  {
   "cell_type": "code",
   "execution_count": 13,
   "id": "fbe8015a",
   "metadata": {},
   "outputs": [
    {
     "name": "stdout",
     "output_type": "stream",
     "text": [
      "['a', 'b', 'c', 'd']\n"
     ]
    }
   ],
   "source": [
    "print(mylist);\n"
   ]
  },
  {
   "cell_type": "code",
   "execution_count": 18,
   "id": "59fdf12a",
   "metadata": {},
   "outputs": [
    {
     "name": "stdout",
     "output_type": "stream",
     "text": [
      "4\n"
     ]
    }
   ],
   "source": [
    "print(len(mylist))\n"
   ]
  },
  {
   "cell_type": "code",
   "execution_count": 20,
   "id": "6432e906",
   "metadata": {},
   "outputs": [
    {
     "name": "stdout",
     "output_type": "stream",
     "text": [
      "['1', '2', '3', '4', '5', '6']\n"
     ]
    }
   ],
   "source": [
    "A=[\"1\",\"2\",\"3\"]\n",
    "B=[\"4\",\"5\",\"6\"]\n",
    "C=A+B\n",
    "print(C);"
   ]
  },
  {
   "cell_type": "code",
   "execution_count": 23,
   "id": "13f16c43",
   "metadata": {},
   "outputs": [
    {
     "name": "stdout",
     "output_type": "stream",
     "text": [
      "['1', '2', '3', 'x', 'y', 'z']\n"
     ]
    }
   ],
   "source": [
    "A=[\"1\",\"2\",\"3\"]\n",
    "B=[\"x\",\"y\",\"z\"]\n",
    "A.extend(B)\n",
    "print(A);\n"
   ]
  },
  {
   "cell_type": "code",
   "execution_count": 28,
   "id": "9b2264e0",
   "metadata": {},
   "outputs": [
    {
     "name": "stdout",
     "output_type": "stream",
     "text": [
      "['1', '2', '3', '4', '5', '10', '6']\n"
     ]
    }
   ],
   "source": [
    "C.insert(5,\"10\")\n",
    "print(C);"
   ]
  },
  {
   "cell_type": "code",
   "execution_count": 29,
   "id": "a7589ab4",
   "metadata": {},
   "outputs": [
    {
     "name": "stdout",
     "output_type": "stream",
     "text": [
      "['6', '10', '5', '4', '3', '2', '1']\n"
     ]
    }
   ],
   "source": [
    "C.reverse()\n",
    "print(C)"
   ]
  },
  {
   "cell_type": "code",
   "execution_count": 30,
   "id": "8c689dfc",
   "metadata": {},
   "outputs": [
    {
     "name": "stdout",
     "output_type": "stream",
     "text": [
      "['1', '10', '2', '3', '4', '5', '6']\n"
     ]
    }
   ],
   "source": [
    "C.sort()\n",
    "print(C)"
   ]
  },
  {
   "cell_type": "code",
   "execution_count": 37,
   "id": "1e20a783",
   "metadata": {},
   "outputs": [
    {
     "name": "stdout",
     "output_type": "stream",
     "text": [
      "['1', '2', '3', '5']\n"
     ]
    }
   ],
   "source": [
    "X=[\"2\",\"1\",\"5\",\"3\"]\n",
    "X.sort()\n",
    "print(X)"
   ]
  },
  {
   "cell_type": "code",
   "execution_count": null,
   "id": "6a3cd7f2",
   "metadata": {},
   "outputs": [],
   "source": []
  }
 ],
 "metadata": {
  "kernelspec": {
   "display_name": "Python 3 (ipykernel)",
   "language": "python",
   "name": "python3"
  },
  "language_info": {
   "codemirror_mode": {
    "name": "ipython",
    "version": 3
   },
   "file_extension": ".py",
   "mimetype": "text/x-python",
   "name": "python",
   "nbconvert_exporter": "python",
   "pygments_lexer": "ipython3",
   "version": "3.9.18"
  }
 },
 "nbformat": 4,
 "nbformat_minor": 5
}
